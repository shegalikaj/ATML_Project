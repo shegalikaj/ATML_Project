{
 "cells": [
  {
   "cell_type": "code",
   "execution_count": null,
   "metadata": {},
   "outputs": [],
   "source": [
    "from google.colab import drive\n",
    "drive.mount('/content/drive')"
   ]
  },
  {
   "cell_type": "code",
   "execution_count": null,
   "metadata": {},
   "outputs": [],
   "source": [
    "!mkdir /content/drive/MyDrive/ATML\n",
    "!git clone https://github.com/openai/gpt-2.git /content/drive/MyDrive/ATML/gpt-2"
   ]
  },
  {
   "cell_type": "code",
   "execution_count": null,
   "metadata": {},
   "outputs": [],
   "source": [
    "# Migrating from tf 1.x to 2.x\n",
    "!wget https://raw.githubusercontent.com/tensorflow/tensor2tensor/master/tensor2tensor/utils/hparam.py\n",
    "!wget mv hparam.py /content/drive/MyDrive/ATML/gpt-2/src\n",
    "\n",
    "def replacer(filename, toBeReplaced, replacementText):\n",
    "    # Read in the file\n",
    "    with open(filename, 'r') as file :\n",
    "        filedata = file.read()\n",
    "\n",
    "    # Replace the target string\n",
    "    filedata = filedata.replace(toBeReplaced, replacementText)\n",
    "\n",
    "    # Write the file out again\n",
    "    with open(filename, 'w') as file:\n",
    "        file.write(filedata)\n",
    "\n",
    "filename = '/content/drive/MyDrive/ATML/gpt-2/src/model.py'\n",
    "\n",
    "toBeReplaced = '''\n",
    "import tensorflow as tf\n",
    "from tensorflow.contrib.training import HParams\n",
    "'''\n",
    "replacementText = '''\n",
    "import tensorflow.compat.v1 as tf\n",
    "tf.disable_v2_behavior()\n",
    "from hparam import HParams\n",
    "'''\n",
    "\n",
    "replacer(filename, toBeReplaced, replacementText)\n",
    "\n",
    "toBeReplaced = 'import tensorflow as tf'\n",
    "replacementText = '''\n",
    "import tensorflow.compat.v1 as tf\n",
    "tf.disable_v2_behavior()\n",
    "'''\n",
    "\n",
    "replacer('/content/drive/MyDrive/ATML/gpt-2/src/generate_unconditional_samples.py', toBeReplaced, replacementText)\n",
    "replacer('/content/drive/MyDrive/ATML/gpt-2/src/interactive_conditional_samples.py', toBeReplaced, replacementText)\n",
    "replacer('/content/drive/MyDrive/ATML/gpt-2/src/sample.py', toBeReplaced, replacementText)\n"
   ]
  },
  {
   "cell_type": "code",
   "execution_count": null,
   "metadata": {},
   "outputs": [],
   "source": [
    "%cd /content/drive/MyDrive/ATML/gpt-2/\n",
    "!pip3 install -r requirements.txt"
   ]
  },
  {
   "cell_type": "code",
   "execution_count": null,
   "metadata": {},
   "outputs": [],
   "source": [
    "!python3 download_model.py 124M\n",
    "!python3 download_model.py 355M\n",
    "!python3 download_model.py 774M\n",
    "!python3 download_model.py 1.5B"
   ]
  }
 ],
 "metadata": {
  "kernelspec": {
   "display_name": "base",
   "language": "python",
   "name": "python3"
  },
  "language_info": {
   "name": "python",
   "version": "3.9.7 (default, Sep 16 2021, 08:50:36) \n[Clang 10.0.0 ]"
  },
  "orig_nbformat": 4,
  "vscode": {
   "interpreter": {
    "hash": "87ca65695daff7fe8a8e024dfecea99c0ee365895d6fd4f64fb5efe825c84876"
   }
  }
 },
 "nbformat": 4,
 "nbformat_minor": 2
}
