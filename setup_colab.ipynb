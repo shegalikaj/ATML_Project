{
 "cells": [
  {
   "cell_type": "code",
   "execution_count": 1,
   "metadata": {},
   "outputs": [
    {
     "ename": "ModuleNotFoundError",
     "evalue": "No module named 'google.colab'",
     "output_type": "error",
     "traceback": [
      "\u001b[0;31m---------------------------------------------------------------------------\u001b[0m",
      "\u001b[0;31mModuleNotFoundError\u001b[0m                       Traceback (most recent call last)",
      "\u001b[1;32m/Users/shega_usi/Documents/GitHub/ATML_Project/setup_colab.ipynb Cell 1\u001b[0m in \u001b[0;36m<cell line: 1>\u001b[0;34m()\u001b[0m\n\u001b[0;32m----> <a href='vscode-notebook-cell:/Users/shega_usi/Documents/GitHub/ATML_Project/setup_colab.ipynb#W0sZmlsZQ%3D%3D?line=0'>1</a>\u001b[0m \u001b[39mfrom\u001b[39;00m \u001b[39mgoogle\u001b[39;00m\u001b[39m.\u001b[39;00m\u001b[39mcolab\u001b[39;00m \u001b[39mimport\u001b[39;00m drive\n\u001b[1;32m      <a href='vscode-notebook-cell:/Users/shega_usi/Documents/GitHub/ATML_Project/setup_colab.ipynb#W0sZmlsZQ%3D%3D?line=1'>2</a>\u001b[0m drive\u001b[39m.\u001b[39mmount(\u001b[39m'\u001b[39m\u001b[39m/content/drive\u001b[39m\u001b[39m'\u001b[39m)\n",
      "\u001b[0;31mModuleNotFoundError\u001b[0m: No module named 'google.colab'"
     ]
    }
   ],
   "source": [
    "from google.colab import drive\n",
    "drive.mount('/content/drive')"
   ]
  },
  {
   "cell_type": "code",
   "execution_count": null,
   "metadata": {},
   "outputs": [],
   "source": [
    "!mkdir /content/drive/MyDrive/ATML\n",
    "!git clone https://github.com/openai/gpt-2.git /content/drive/MyDrive/ATML/gpt-2"
   ]
  },
  {
   "cell_type": "code",
   "execution_count": null,
   "metadata": {},
   "outputs": [],
   "source": [
    "# Migrating from tf 1.x to 2.x\n",
    "!wget https://raw.githubusercontent.com/tensorflow/tensor2tensor/master/tensor2tensor/utils/hparam.py\n",
    "!wget mv hparam.py /content/drive/MyDrive/ATML/gpt-2/src\n",
    "\n",
    "def replacer(filename, toBeReplaced, replacementText):\n",
    "    # Read in the file\n",
    "    with open(filename, 'r') as file :\n",
    "        filedata = file.read()\n",
    "\n",
    "    # Replace the target string\n",
    "    filedata = filedata.replace(toBeReplaced, replacementText)\n",
    "\n",
    "    # Write the file out again\n",
    "    with open(filename, 'w') as file:\n",
    "        file.write(filedata)\n",
    "\n",
    "filename = '/content/drive/MyDrive/ATML/gpt-2/src/model.py'\n",
    "\n",
    "toBeReplaced = '''\n",
    "import tensorflow as tf\n",
    "from tensorflow.contrib.training import HParams\n",
    "'''\n",
    "replacementText = '''\n",
    "import tensorflow.compat.v1 as tf\n",
    "tf.disable_v2_behavior()\n",
    "from hparam import HParams\n",
    "'''\n",
    "\n",
    "replacer(filename, toBeReplaced, replacementText)\n",
    "\n",
    "toBeReplaced = 'import tensorflow as tf'\n",
    "replacementText = '''\n",
    "import tensorflow.compat.v1 as tf\n",
    "tf.disable_v2_behavior()\n",
    "'''\n",
    "\n",
    "replacer('/content/drive/MyDrive/ATML/gpt-2/src/generate_unconditional_samples.py', toBeReplaced, replacementText)\n",
    "replacer('/content/drive/MyDrive/ATML/gpt-2/src/interactive_conditional_samples.py', toBeReplaced, replacementText)\n",
    "replacer('/content/drive/MyDrive/ATML/gpt-2/src/sample.py', toBeReplaced, replacementText)\n"
   ]
  },
  {
   "cell_type": "code",
   "execution_count": null,
   "metadata": {},
   "outputs": [],
   "source": [
    "%cd /content/drive/MyDrive/ATML/gpt-2/\n",
    "!pip3 install -r requirements.txt"
   ]
  },
  {
   "cell_type": "code",
   "execution_count": null,
   "metadata": {},
   "outputs": [],
   "source": [
    "!python3 download_model.py 124M\n",
    "!python3 download_model.py 355M\n",
    "!python3 download_model.py 774M\n",
    "!python3 download_model.py 1.5B"
   ]
  }
 ],
 "metadata": {
  "kernelspec": {
   "display_name": "Python 3.9.15 64-bit",
   "language": "python",
   "name": "python3"
  },
  "language_info": {
   "codemirror_mode": {
    "name": "ipython",
    "version": 3
   },
   "file_extension": ".py",
   "mimetype": "text/x-python",
   "name": "python",
   "nbconvert_exporter": "python",
   "pygments_lexer": "ipython3",
   "version": "3.9.15"
  },
  "orig_nbformat": 4,
  "vscode": {
   "interpreter": {
    "hash": "397704579725e15f5c7cb49fe5f0341eb7531c82d19f2c29d197e8b64ab5776b"
   }
  }
 },
 "nbformat": 4,
 "nbformat_minor": 2
}
